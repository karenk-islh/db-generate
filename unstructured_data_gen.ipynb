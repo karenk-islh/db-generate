{
  "nbformat": 4,
  "nbformat_minor": 0,
  "metadata": {
    "colab": {
      "provenance": []
    },
    "kernelspec": {
      "name": "python3",
      "display_name": "Python 3"
    },
    "language_info": {
      "name": "python"
    }
  },
  "cells": [
    {
      "cell_type": "code",
      "execution_count": 1,
      "metadata": {
        "colab": {
          "base_uri": "https://localhost:8080/"
        },
        "id": "NVt_gRnVEL5n",
        "outputId": "87a72947-a82f-472c-b845-684dc150dced"
      },
      "outputs": [
        {
          "output_type": "stream",
          "name": "stdout",
          "text": [
            "Collecting faker\n",
            "  Downloading Faker-26.0.0-py3-none-any.whl.metadata (15 kB)\n",
            "Collecting gtts\n",
            "  Downloading gTTS-2.5.2-py3-none-any.whl.metadata (4.1 kB)\n",
            "Requirement already satisfied: requests in /usr/local/lib/python3.10/dist-packages (2.31.0)\n",
            "Requirement already satisfied: python-dateutil>=2.4 in /usr/local/lib/python3.10/dist-packages (from faker) (2.8.2)\n",
            "Requirement already satisfied: click<8.2,>=7.1 in /usr/local/lib/python3.10/dist-packages (from gtts) (8.1.7)\n",
            "Requirement already satisfied: charset-normalizer<4,>=2 in /usr/local/lib/python3.10/dist-packages (from requests) (3.3.2)\n",
            "Requirement already satisfied: idna<4,>=2.5 in /usr/local/lib/python3.10/dist-packages (from requests) (3.7)\n",
            "Requirement already satisfied: urllib3<3,>=1.21.1 in /usr/local/lib/python3.10/dist-packages (from requests) (2.0.7)\n",
            "Requirement already satisfied: certifi>=2017.4.17 in /usr/local/lib/python3.10/dist-packages (from requests) (2024.7.4)\n",
            "Requirement already satisfied: six>=1.5 in /usr/local/lib/python3.10/dist-packages (from python-dateutil>=2.4->faker) (1.16.0)\n",
            "Downloading Faker-26.0.0-py3-none-any.whl (1.8 MB)\n",
            "\u001b[2K   \u001b[90m━━━━━━━━━━━━━━━━━━━━━━━━━━━━━━━━━━━━━━━━\u001b[0m \u001b[32m1.8/1.8 MB\u001b[0m \u001b[31m13.1 MB/s\u001b[0m eta \u001b[36m0:00:00\u001b[0m\n",
            "\u001b[?25hDownloading gTTS-2.5.2-py3-none-any.whl (29 kB)\n",
            "Installing collected packages: gtts, faker\n",
            "Successfully installed faker-26.0.0 gtts-2.5.2\n"
          ]
        }
      ],
      "source": [
        "!pip install faker gtts requests"
      ]
    },
    {
      "cell_type": "code",
      "source": [
        "!pip install faker requests pillow"
      ],
      "metadata": {
        "colab": {
          "base_uri": "https://localhost:8080/"
        },
        "id": "rOZ3mMNnYDIh",
        "outputId": "589a9055-f8fc-4dd5-a8df-7d503a411e7f"
      },
      "execution_count": 5,
      "outputs": [
        {
          "output_type": "stream",
          "name": "stdout",
          "text": [
            "Requirement already satisfied: faker in /usr/local/lib/python3.10/dist-packages (26.0.0)\n",
            "Requirement already satisfied: requests in /usr/local/lib/python3.10/dist-packages (2.31.0)\n",
            "Requirement already satisfied: pillow in /usr/local/lib/python3.10/dist-packages (9.4.0)\n",
            "Requirement already satisfied: python-dateutil>=2.4 in /usr/local/lib/python3.10/dist-packages (from faker) (2.8.2)\n",
            "Requirement already satisfied: charset-normalizer<4,>=2 in /usr/local/lib/python3.10/dist-packages (from requests) (3.3.2)\n",
            "Requirement already satisfied: idna<4,>=2.5 in /usr/local/lib/python3.10/dist-packages (from requests) (3.7)\n",
            "Requirement already satisfied: urllib3<3,>=1.21.1 in /usr/local/lib/python3.10/dist-packages (from requests) (2.0.7)\n",
            "Requirement already satisfied: certifi>=2017.4.17 in /usr/local/lib/python3.10/dist-packages (from requests) (2024.7.4)\n",
            "Requirement already satisfied: six>=1.5 in /usr/local/lib/python3.10/dist-packages (from python-dateutil>=2.4->faker) (1.16.0)\n"
          ]
        }
      ]
    },
    {
      "cell_type": "code",
      "source": [
        "!pip install pydicom"
      ],
      "metadata": {
        "colab": {
          "base_uri": "https://localhost:8080/"
        },
        "id": "8mYWgBaYau6c",
        "outputId": "5bb3fec4-6055-4528-8092-e2a019a62fd8"
      },
      "execution_count": 6,
      "outputs": [
        {
          "output_type": "stream",
          "name": "stdout",
          "text": [
            "Collecting pydicom\n",
            "  Downloading pydicom-2.4.4-py3-none-any.whl.metadata (7.8 kB)\n",
            "Downloading pydicom-2.4.4-py3-none-any.whl (1.8 MB)\n",
            "\u001b[2K   \u001b[90m━━━━━━━━━━━━━━━━━━━━━━━━━━━━━━━━━━━━━━━━\u001b[0m \u001b[32m1.8/1.8 MB\u001b[0m \u001b[31m16.0 MB/s\u001b[0m eta \u001b[36m0:00:00\u001b[0m\n",
            "\u001b[?25hInstalling collected packages: pydicom\n",
            "Successfully installed pydicom-2.4.4\n"
          ]
        }
      ]
    },
    {
      "cell_type": "code",
      "source": [
        "import os\n",
        "import json\n",
        "import requests\n",
        "import numpy as np\n",
        "import pydicom\n",
        "from pydicom.dataset import Dataset, FileDataset\n",
        "from pydicom.uid import generate_uid, ExplicitVRLittleEndian, SecondaryCaptureImageStorage\n",
        "from faker import Faker\n",
        "from gtts import gTTS\n",
        "from datetime import datetime"
      ],
      "metadata": {
        "id": "BdVkxj92apKp"
      },
      "execution_count": 16,
      "outputs": []
    },
    {
      "cell_type": "code",
      "source": [
        "faker = Faker()\n",
        "\n",
        "MAIN_FOLDER = '/content/dataLake-db'\n",
        "\n",
        "# Define the folder structure\n",
        "folders = [\n",
        "    'unstructured/text_documents/patient_notes',\n",
        "    'unstructured/medical_images/x-rays',\n",
        "    'unstructured/audio_files/patient_interviews',\n",
        "    'unstructured/sensor_data/heart_rate',\n",
        "    'unstructured/log_files/system_logs'\n",
        "]\n",
        "\n",
        "# Create the main folder and subdirectories\n",
        "for folder in folders:\n",
        "    os.makedirs(os.path.join(MAIN_FOLDER, folder), exist_ok=True)\n",
        "\n",
        "print(f\"Created folder structure under {MAIN_FOLDER}\")"
      ],
      "metadata": {
        "colab": {
          "base_uri": "https://localhost:8080/"
        },
        "id": "ekuUOYjwdiOD",
        "outputId": "688baaee-f2a0-4a91-ca41-a3cd9b8b523f"
      },
      "execution_count": 17,
      "outputs": [
        {
          "output_type": "stream",
          "name": "stdout",
          "text": [
            "Created folder structure under /content/dataLake-db\n"
          ]
        }
      ]
    },
    {
      "cell_type": "code",
      "source": [
        "def generate_patient_notes(num):\n",
        "    return [{\n",
        "        'patient_id': faker.random_int(min=1, max=1000),\n",
        "        'notes': faker.paragraph(nb_sentences=3),\n",
        "        'date': faker.date_this_decade().isoformat()\n",
        "    } for _ in range(num)]\n",
        "\n",
        "def generate_medical_images(num):\n",
        "    images = []\n",
        "    for i in range(num):\n",
        "        patient_id = faker.random_int(min=1, max=1000)\n",
        "        file_name = f'image_{i}.dcm'\n",
        "        description = faker.sentence()\n",
        "        date = faker.date_this_decade().isoformat()\n",
        "\n",
        "        # Create a placeholder DICOM image\n",
        "        ds = FileDataset(file_name, {}, file_meta=Dataset(), preamble=b\"\\0\" * 128)\n",
        "\n",
        "        ds.PatientName = f'Patient {patient_id}'\n",
        "        ds.PatientID = str(patient_id)\n",
        "        ds.StudyInstanceUID = generate_uid()\n",
        "        ds.SeriesInstanceUID = generate_uid()\n",
        "        ds.SOPInstanceUID = generate_uid()\n",
        "        ds.SOPClassUID = SecondaryCaptureImageStorage\n",
        "        ds.Modality = 'OT'  # Other\n",
        "        ds.StudyDate = date.replace(\"-\", \"\")\n",
        "        ds.ContentDate = date.replace(\"-\", \"\")\n",
        "        ds.Rows = 256\n",
        "        ds.Columns = 256\n",
        "        ds.BitsAllocated = 16\n",
        "        ds.BitsStored = 16\n",
        "        ds.HighBit = 15\n",
        "        ds.SamplesPerPixel = 1\n",
        "        ds.PixelRepresentation = 0\n",
        "        ds.PhotometricInterpretation = 'MONOCHROME2'\n",
        "\n",
        "        # Set the necessary attributes\n",
        "        ds.is_little_endian = True\n",
        "        ds.is_implicit_VR = False\n",
        "\n",
        "        # Create a numpy array for the image\n",
        "        pixel_array = np.arange(256*256, dtype=np.uint16).reshape(256, 256)\n",
        "        ds.PixelData = pixel_array.tobytes()\n",
        "\n",
        "        # Add the required File Meta Information elements\n",
        "        ds.file_meta.TransferSyntaxUID = ExplicitVRLittleEndian\n",
        "        ds.file_meta.MediaStorageSOPClassUID = SecondaryCaptureImageStorage\n",
        "        ds.file_meta.MediaStorageSOPInstanceUID = ds.SOPInstanceUID\n",
        "        ds.file_meta.ImplementationClassUID = generate_uid()\n",
        "\n",
        "        image_path = os.path.join(MAIN_FOLDER, 'unstructured/medical_images/x-rays', file_name)\n",
        "        pydicom.filewriter.dcmwrite(image_path, ds, write_like_original=False)\n",
        "\n",
        "        images.append({\n",
        "            'patient_id': patient_id,\n",
        "            'file': file_name,\n",
        "            'description': description,\n",
        "            'date': date\n",
        "        })\n",
        "\n",
        "    return images\n",
        "\n",
        "def generate_audio_files(num):\n",
        "    audio_files = []\n",
        "    for i in range(num):\n",
        "        patient_id = faker.random_int(min=1, max=1000)\n",
        "        file_name = f'audio_{i}.mp3'\n",
        "        description = faker.sentence()\n",
        "        date = faker.date_this_decade().isoformat()\n",
        "\n",
        "        text = f'This is a sample audio file for patient ID {patient_id}. {description}'\n",
        "        tts = gTTS(text=text, lang='en')\n",
        "        audio_path = os.path.join(MAIN_FOLDER, 'unstructured/audio_files/patient_interviews', file_name)\n",
        "        tts.save(audio_path)\n",
        "\n",
        "        audio_files.append({\n",
        "            'patient_id': patient_id,\n",
        "            'file': file_name,\n",
        "            'description': description,\n",
        "            'date': date\n",
        "        })\n",
        "\n",
        "    return audio_files\n",
        "\n",
        "def write_json_to_file(file_path, data):\n",
        "    with open(file_path, 'w') as f:\n",
        "        json.dump(data, f, indent=2)\n",
        "\n",
        "def main():\n",
        "    num_entries = 10  # Adjust the number of entries here\n",
        "\n",
        "    # Generate and save patient notes\n",
        "    patient_notes = generate_patient_notes(num_entries)\n",
        "    write_json_to_file(os.path.join(MAIN_FOLDER, 'unstructured/text_documents/patient_notes/patient_notes.json'), patient_notes)\n",
        "\n",
        "    # Generate and save medical images metadata\n",
        "    medical_images = generate_medical_images(num_entries)\n",
        "    write_json_to_file(os.path.join(MAIN_FOLDER, 'unstructured/medical_images/x-rays/medical_images.json'), medical_images)\n",
        "\n",
        "    # Generate and save audio files and metadata\n",
        "    audio_files = generate_audio_files(num_entries)\n",
        "    write_json_to_file(os.path.join(MAIN_FOLDER, 'unstructured/audio_files/patient_interviews/audio_files.json'), audio_files)\n",
        "\n",
        "    print('Sample data generation completed.')\n",
        "\n",
        "if __name__ == \"__main__\":\n",
        "    main()\n"
      ],
      "metadata": {
        "id": "_1WSw-zJEYya",
        "colab": {
          "base_uri": "https://localhost:8080/"
        },
        "outputId": "d73ac17e-6ec4-48c9-ee2a-0a814dd1b5c3"
      },
      "execution_count": 14,
      "outputs": [
        {
          "output_type": "stream",
          "name": "stdout",
          "text": [
            "Created folder structure under /content/dataLake-db\n",
            "Sample data generation completed.\n"
          ]
        }
      ]
    },
    {
      "cell_type": "code",
      "source": [
        "shutil.make_archive('/content/dataLake-db', 'zip', '/content/dataLake-db')\n",
        "print('Created zip file of the data folder.')"
      ],
      "metadata": {
        "colab": {
          "base_uri": "https://localhost:8080/"
        },
        "id": "wgsjNegSISBO",
        "outputId": "14aebfcc-35a3-495a-90e1-222473b85eb4"
      },
      "execution_count": 15,
      "outputs": [
        {
          "output_type": "stream",
          "name": "stdout",
          "text": [
            "Created zip file of the data folder.\n"
          ]
        }
      ]
    }
  ]
}